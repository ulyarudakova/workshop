{
 "cells": [
  {
   "cell_type": "markdown",
   "metadata": {
    "id": "1zL9R4fiXHLM"
   },
   "source": [
    "# Семинар NumPy\n",
    "\n",
    "При выполнении заданий не используйте циклы и условные операторы. \n",
    "Внизу есть подсказки, какие функции можно/нужно использовать в некоторых из заданий, чтобы не тратить время на их поиск:)"
   ]
  },
  {
   "cell_type": "code",
   "execution_count": null,
   "metadata": {
    "id": "57NDzj2RVUsl"
   },
   "outputs": [],
   "source": [
    "from google.colab import drive\n",
    "drive.mount('/content/drive')"
   ]
  },
  {
   "cell_type": "markdown",
   "metadata": {
    "id": "VYjev741XMcN"
   },
   "source": [
    "1. Создайте вектор, состоящий из нулей, длиной 10."
   ]
  },
  {
   "cell_type": "code",
   "execution_count": null,
   "metadata": {
    "id": "Tm4j-1qEXUQv"
   },
   "outputs": [],
   "source": [
    "import numpy as np\n",
    "\n",
    "vector = np.zeros(10)\n",
    "print(vector)"
   ]
  },
  {
   "cell_type": "markdown",
   "metadata": {
    "id": "8udUGXuJXZLN"
   },
   "source": [
    "2. Создайте вектор, состоящий из нулей, длиной 10, где 4-ым элементом будет 1."
   ]
  },
  {
   "cell_type": "code",
   "execution_count": null,
   "metadata": {
    "id": "acKL30ZbXd4i"
   },
   "outputs": [],
   "source": [
    "import numpy as np\n",
    "\n",
    "vector = np.full(10, 0)\n",
    "vector[3] = 1\n",
    "print(vector)"
   ]
  },
  {
   "cell_type": "markdown",
   "metadata": {
    "id": "Br7JJmccXfqX"
   },
   "source": [
    "3. Создайте вектор длиной 10, заполненный числом 14,8."
   ]
  },
  {
   "cell_type": "code",
   "execution_count": null,
   "metadata": {
    "id": "oPpKXvsJXjMh"
   },
   "outputs": [],
   "source": [
    "import numpy as np\n",
    "\n",
    "vector = np.full(10, 14.8)\n",
    "print(vector)"
   ]
  },
  {
   "cell_type": "markdown",
   "metadata": {
    "id": "szIfatLsXn5s"
   },
   "source": [
    "4. Создайте вектор со значениями от 23 до 38."
   ]
  },
  {
   "cell_type": "code",
   "execution_count": null,
   "metadata": {
    "id": "h1LFE2W1XpOq"
   },
   "outputs": [],
   "source": [
    "import numpy as np\n",
    "\n",
    "vector = np.arange(23, 39)\n",
    "print(vector)"
   ]
  },
  {
   "cell_type": "markdown",
   "metadata": {
    "id": "WrldVB5BXuN9"
   },
   "source": [
    "5. Переверните вектор (последнее значение становится первым и т.д.)."
   ]
  },
  {
   "cell_type": "code",
   "execution_count": null,
   "metadata": {
    "id": "kdcam5T4Xta-"
   },
   "outputs": [],
   "source": [
    "import numpy as np\n",
    "\n",
    "v = np.arange(10)\n",
    "v = v[::-1]\n",
    "\n",
    "print(v)"
   ]
  },
  {
   "cell_type": "markdown",
   "metadata": {
    "id": "X76wPcwFX1FU"
   },
   "source": [
    "6. Из вектора длиной 9 создайте матрицу 3x3."
   ]
  },
  {
   "cell_type": "code",
   "execution_count": null,
   "metadata": {
    "id": "fIfDb8rrX3UE"
   },
   "outputs": [],
   "source": [
    "import numpy as np\n",
    "\n",
    "vector = np.arange(1, 10)\n",
    "matrix = vector.reshape((3, 3))\n",
    "print(matrix)"
   ]
  },
  {
   "cell_type": "markdown",
   "metadata": {
    "id": "gDkVef16X7Wy"
   },
   "source": [
    "7. Создайте матрицу размерностью 3x3 и значениями от 0 до 8."
   ]
  },
  {
   "cell_type": "code",
   "execution_count": null,
   "metadata": {
    "id": "fLgDBLjrX841"
   },
   "outputs": [],
   "source": [
    "import numpy as np\n",
    "\n",
    "matrix = np.arange(9).reshape(3, 3)\n",
    "print(matrix)"
   ]
  },
  {
   "cell_type": "markdown",
   "metadata": {
    "id": "rsH67dSFYG-e"
   },
   "source": [
    "8. Найдите индексы ненулевых элементов в массиве `a`.\n"
   ]
  },
  {
   "cell_type": "code",
   "execution_count": null,
   "metadata": {
    "id": "m4GkHiaEYOOB"
   },
   "outputs": [],
   "source": [
    "import numpy as np\n",
    "\n",
    "a = np.array([1, 2, 0, 0, 4, 0])\n",
    "non_zero_indices = np.nonzero(a)\n",
    "print(non_zero_indices)"
   ]
  },
  {
   "cell_type": "markdown",
   "metadata": {
    "id": "pMrFQsVZYcsw"
   },
   "source": [
    "9. Создайте массив 10x10 со случайными значениями и найдите наименьшее и наибольшее значения в нём."
   ]
  },
  {
   "cell_type": "code",
   "execution_count": null,
   "metadata": {
    "id": "N0uSEZGUYjqd"
   },
   "outputs": [],
   "source": [
    "import numpy as np\n",
    "\n",
    "arr = np.random.randint(0, 100, size=(10, 10))\n",
    "\n",
    "min_val = np.min(arr)\n",
    "max_val = np.max(arr)\n",
    "\n",
    "print(\"Минимальное значение:\", min_val)\n",
    "print(\"Максимальное значение:\", max_val)"
   ]
  },
  {
   "cell_type": "markdown",
   "metadata": {
    "id": "moNKGoAaYmzo"
   },
   "source": [
    "10. Создайте вектор длиной 15 со случайными значениями и найдите индексы, содержащие наименьшее и наибольшее значения."
   ]
  },
  {
   "cell_type": "code",
   "execution_count": null,
   "metadata": {
    "id": "YPlERdbeYwUm"
   },
   "outputs": [],
   "source": [
    "import numpy as np\n",
    "\n",
    "vec = np.random.rand(15)\n",
    "\n",
    "min_index = np.argmin(vec)\n",
    "max_index = np.argmax(vec)\n",
    "\n",
    "print(\"Вектор:\", vec)\n",
    "print(\"Индекс наименьшего значения:\", min_index)\n",
    "print(\"Индекс наибольшего значения:\", max_index)"
   ]
  },
  {
   "cell_type": "markdown",
   "metadata": {
    "id": "HZJ2j17cY3nv"
   },
   "source": [
    "11. Создайте вектор со случайными значениями размерностью 30 и вычислите среднее значение."
   ]
  },
  {
   "cell_type": "code",
   "execution_count": null,
   "metadata": {
    "id": "WavvQJdlY8yt"
   },
   "outputs": [],
   "source": [
    "import numpy as np\n",
    "\n",
    "vec = np.random.rand(30)\n",
    "\n",
    "mean_val = np.mean(vec)\n",
    "\n",
    "print(\"Среднее значение:\", mean_val)"
   ]
  },
  {
   "cell_type": "markdown",
   "metadata": {
    "id": "1IQ_5aG_ZAEd"
   },
   "source": [
    "12. Создайте вектор со случайными значениями размерностью 3х10 и вычислите отдельно среднее значение в каждой строке (размерность итогового массива 3х1) и в каждом столбце (размерность итогового массива 10x1)."
   ]
  },
  {
   "cell_type": "code",
   "execution_count": null,
   "metadata": {
    "id": "tefID2iZY_Yr"
   },
   "outputs": [],
   "source": [
    "import numpy as np\n",
    "\n",
    "mat = np.random.rand(3, 10)\n",
    "\n",
    "mean_row = np.mean(mat, axis=1)\n",
    "\n",
    "mean_col = np.mean(mat, axis=0)\n",
    "\n",
    "print(\"Средние значения по строкам:\", mean_row)\n",
    "print(\"Средние значения по столбцам:\", mean_col)"
   ]
  },
  {
   "cell_type": "markdown",
   "metadata": {
    "id": "f0FZM3oCZK9v"
   },
   "source": [
    "13. Добавьте границы (состоящие из нулей) вокруг существующего массива. В итоге должен получиться массив такого вида:\n",
    "\n",
    "``` \n",
    "00000\n",
    "01110\n",
    "01110\n",
    "00000\n",
    " ```"
   ]
  },
  {
   "cell_type": "code",
   "execution_count": null,
   "metadata": {
    "id": "ux03YRnwZdCl"
   },
   "outputs": [],
   "source": [
    "import numpy as np\n",
    "\n",
    "mat = np.random.rand(3, 10)\n",
    "\n",
    "mean_row = np.mean(mat, axis=1)\n",
    "\n",
    "mean_col = np.mean(mat, axis=0)\n",
    "\n",
    "mat_with_border = np.zeros((mat.shape[0]+2, mat.shape[1]+2))\n",
    "mat_with_border[1:-1, 1:-1] = mat\n",
    "\n",
    "print(mat_with_border)"
   ]
  },
  {
   "cell_type": "markdown",
   "metadata": {
    "id": "Vvo8v25AZkKD"
   },
   "source": [
    "14. Умножьте матрицу 5x3 на матрицу 3х2."
   ]
  },
  {
   "cell_type": "code",
   "execution_count": null,
   "metadata": {
    "id": "pqYsokZCZl_J"
   },
   "outputs": [],
   "source": [
    "import numpy as np\n",
    "\n",
    "z = np.dot(np.ones((5,3)), np.ones((3,2)))\n",
    "print(z)"
   ]
  },
  {
   "cell_type": "markdown",
   "metadata": {
    "id": "4BJkjmgSZpci"
   },
   "source": [
    "15. Найдите общие значения двух массивов (элементы в их пересечении)."
   ]
  },
  {
   "cell_type": "code",
   "execution_count": null,
   "metadata": {
    "id": "YPzbPVnRZrN9"
   },
   "outputs": [],
   "source": [
    "import numpy as np\n",
    "\n",
    "arr1 = np.random.randint(0, 10, 10)\n",
    "arr2 = np.random.randint(0, 10, 10)\n",
    "\n",
    "common_values = np.intersect1d(arr1, arr2)\n",
    "\n",
    "print(\"Массив 1:\", arr1)\n",
    "print(\"Массив 2:\", arr2)\n",
    "print(\"Общие значения:\", common_values)"
   ]
  },
  {
   "cell_type": "markdown",
   "metadata": {
    "id": "_SsPWVspZuFS"
   },
   "source": [
    "16. Создайте вектор со случайными значениями длиной 10 и отсортируйте его."
   ]
  },
  {
   "cell_type": "code",
   "execution_count": null,
   "metadata": {
    "id": "Aos67m-oZxXm"
   },
   "outputs": [],
   "source": [
    "import numpy as np\n",
    "\n",
    "z = np.random.random(10)\n",
    "z.sort()\n",
    "print(z)"
   ]
  },
  {
   "cell_type": "markdown",
   "metadata": {
    "id": "pvF2-2AGZ0qS"
   },
   "source": [
    "17. Создайте вектор со случайными значениями размерностью 10 и замените наибольшее значение нулём."
   ]
  },
  {
   "cell_type": "code",
   "execution_count": null,
   "metadata": {
    "id": "sL-JNslTZ389"
   },
   "outputs": [],
   "source": [
    "import numpy as np\n",
    "\n",
    "vec = np.random.rand(10)\n",
    "max_val = np.max(vec)\n",
    "vec[vec==max_val] = 0\n",
    "print(vec)"
   ]
  },
  {
   "cell_type": "markdown",
   "metadata": {
    "id": "5R-wvp73Z6d_"
   },
   "source": [
    "18. Создайте матрицу 3х3 и “растяните” её в вектор (так, чтобы размерность стала 1х9) по крайней мере двумя способами.\n"
   ]
  },
  {
   "cell_type": "code",
   "execution_count": null,
   "metadata": {
    "id": "A_acCUK3aMn4"
   },
   "outputs": [],
   "source": [
    "Первый способ:\n",
    "import numpy as np\n",
    "\n",
    "matrix = np.array([[1, 2, 3], [4, 5, 6], [7, 8, 9]])\n",
    "vector = matrix.flatten()\n",
    "\n",
    "print(\"Матрица:\")\n",
    "print(matrix)\n",
    "print(\"Вектор:\")\n",
    "print(vector)\n",
    "\n",
    "Второй способ:\n",
    "import numpy as np\n",
    "\n",
    "matrix = np.array([[1, 2, 3], [4, 5, 6], [7, 8, 9]])\n",
    "vector = matrix.reshape(1, -1)\n",
    "\n",
    "print(\"Матрица:\")\n",
    "print(matrix)\n",
    "print(\"Вектор:\")\n",
    "print(vector)"
   ]
  },
  {
   "cell_type": "markdown",
   "metadata": {
    "id": "H86sL5kbaNVX"
   },
   "source": [
    "\n",
    "19. Создайте матрицу 4х4 и из каждой строки вычтите максимальное значение этой строки. Обратите внимание, что в полученной матрице в каждой строке одним из элементов должен быть 0.\n",
    "\n",
    "Пример: из матрицы\n",
    "\n",
    "```\n",
    "[[0.60682249 0.7449185  0.03185808 0.15218245]\n",
    " [0.55140296 0.36923363 0.52486168 0.72297047]\n",
    " [0.63520354 0.54560057 0.9501767  0.05801644]\n",
    " [0.14608529 0.56327529 0.90571396 0.66212734]]\n",
    "```\n",
    "должна получиться матрица\n",
    "\n",
    "```\n",
    "[[-0.138096    0.         -0.71306042 -0.59273604]\n",
    " [-0.17156751 -0.35373684 -0.19810879  0.        ]\n",
    " [-0.31497315 -0.40457613  0.         -0.89216025]\n",
    " [-0.75962867 -0.34243867  0.         -0.24358662]]\n",
    "```\n",
    "\n",
    "***Подсказка***: при нахождении максимального элемента укажите аргумент `keepdims=True`.\n"
   ]
  },
  {
   "cell_type": "code",
   "execution_count": null,
   "metadata": {
    "id": "Mf2QGutKaQV0"
   },
   "outputs": [],
   "source": [
    "import numpy as np\n",
    "\n",
    "mat = np.random.rand(4, 4)\n",
    "max_vals = np.max(mat, axis=1, keepdims=True)\n",
    "mat -= max_vals\n",
    "print(mat)"
   ]
  },
  {
   "cell_type": "markdown",
   "metadata": {
    "id": "2LT8GrPA1VUU"
   },
   "source": []
  },
  {
   "cell_type": "markdown",
   "metadata": {
    "id": "E9nTmiNsaTwr"
   },
   "source": [
    "20. Считайте массив из текстового файла (предварительно его создав, элементы массива - числа с плавающей точкой (float)) и совершите над ним какую-либо операцию.\n",
    "\n",
    "Пример текста в файле:\n",
    "`1.2 5.6 7.8`"
   ]
  },
  {
   "cell_type": "code",
   "execution_count": null,
   "metadata": {
    "id": "zwsrjJxvaXmR"
   },
   "outputs": [],
   "source": [
    "import numpy as np\n",
    "\n",
    "arr = np.loadtxt('file.txt')\n",
    "min_vals = np.min(arr, axis=1, keepdims=True)\n",
    "arr -= min_vals\n",
    "print(arr)"
   ]
  },
  {
   "cell_type": "markdown",
   "metadata": {
    "id": "r7ASlvEjabU7"
   },
   "source": [
    "\n",
    "\n",
    "---\n",
    "\n",
    "# Подсказки\n",
    "\n",
    "1. zeros\n",
    "3. full\n",
    "4. arange\n",
    "6. reshape\n",
    "8. nonzero\n",
    "9. Для создания массива со случайными значениями: np.random.random(shape), shape - размерность массива. Не забудьте, что если shape > 1, то размерности передаются в виде кортежа!\n",
    "10. argmax, argmin\n",
    "11. mean\n",
    "13. pad\n",
    "14. dot\n",
    "15. Инициализировать массивы можно функцией np.random.randint() - в качестве аргументов передайте свои значения. Пересечение - intersect1d\n",
    "16. sort\n",
    "18. Один способ - flatten, другой уже использовался в предыдущих заданиях.\n",
    "20. fromfile"
   ]
  }
 ],
 "metadata": {
  "colab": {
   "provenance": [],
   "toc_visible": true
  },
  "kernelspec": {
   "name": "python3",
   "display_name": "Python 3"
  }
 },
 "nbformat": 4,
 "nbformat_minor": 0
}
